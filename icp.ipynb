{
 "cells": [
  {
   "cell_type": "code",
   "execution_count": 183,
   "metadata": {},
   "outputs": [],
   "source": [
    "from sklearn.datasets import load_diabetes \n",
    "diabetes= load_diabetes()"
   ]
  },
  {
   "cell_type": "code",
   "execution_count": 184,
   "metadata": {},
   "outputs": [
    {
     "data": {
      "text/plain": [
       "dict_keys(['data', 'target', 'DESCR', 'feature_names'])"
      ]
     },
     "execution_count": 184,
     "metadata": {},
     "output_type": "execute_result"
    }
   ],
   "source": [
    "diabetes.keys()"
   ]
  },
  {
   "cell_type": "code",
   "execution_count": 185,
   "metadata": {},
   "outputs": [],
   "source": [
    "x=diabetes['data']"
   ]
  },
  {
   "cell_type": "code",
   "execution_count": 186,
   "metadata": {},
   "outputs": [],
   "source": [
    "y=diabetes['target']"
   ]
  },
  {
   "cell_type": "code",
   "execution_count": 187,
   "metadata": {},
   "outputs": [],
   "source": [
    "from sklearn.model_selection import train_test_split\n",
    "x_train, x_test, y_train, y_test = train_test_split(x, y, random_state=2401)"
   ]
  },
  {
   "cell_type": "code",
   "execution_count": 188,
   "metadata": {},
   "outputs": [],
   "source": [
    "from sklearn.linear_model import Lasso\n",
    "lasso = Lasso().fit(x_train,y_train)"
   ]
  },
  {
   "cell_type": "code",
   "execution_count": 189,
   "metadata": {},
   "outputs": [
    {
     "data": {
      "text/plain": [
       "0.35190387204549367"
      ]
     },
     "execution_count": 189,
     "metadata": {},
     "output_type": "execute_result"
    }
   ],
   "source": [
    "lasso.score(x_train,y_train)"
   ]
  },
  {
   "cell_type": "code",
   "execution_count": 190,
   "metadata": {},
   "outputs": [
    {
     "data": {
      "text/plain": [
       "0.3603973686383196"
      ]
     },
     "execution_count": 190,
     "metadata": {},
     "output_type": "execute_result"
    }
   ],
   "source": [
    "lasso.score(x_test,y_test)"
   ]
  },
  {
   "cell_type": "code",
   "execution_count": 191,
   "metadata": {},
   "outputs": [
    {
     "name": "stdout",
     "output_type": "stream",
     "text": [
      "['age', 'sex', 'bmi', 'bp', 's1', 's2', 's3', 's4', 's5', 's6']\n",
      "[False False  True  True False False False False  True False]\n"
     ]
    }
   ],
   "source": [
    "import numpy as np\n",
    "np.sum(lasso.coef_ != 0)\n",
    "print(diabetes['feature_names'])\n",
    "print(lasso.coef_ != 0)"
   ]
  },
  {
   "cell_type": "markdown",
   "metadata": {},
   "source": [
    "# The model uses 3 features which is nothing but the lasso.coef_ . The name of those features are 'bmi', 'bp', and 's5'."
   ]
  },
  {
   "cell_type": "code",
   "execution_count": 192,
   "metadata": {},
   "outputs": [
    {
     "name": "stdout",
     "output_type": "stream",
     "text": [
      "(442, 10)\n",
      "[[59.      2.     32.1    ...  4.      4.8598 87.    ]\n",
      " [48.      1.     21.6    ...  3.      3.8918 69.    ]\n",
      " [72.      2.     30.5    ...  4.      4.6728 85.    ]\n",
      " ...\n",
      " [60.      2.     24.9    ...  3.77    4.1271 95.    ]\n",
      " [36.      1.     30.     ...  4.79    5.1299 85.    ]\n",
      " [36.      1.     19.6    ...  3.      4.5951 92.    ]]\n"
     ]
    }
   ],
   "source": [
    "import numpy as np\n",
    "s=np.genfromtxt(\"Diabetes.txt\",usecols=np.arange(10),skip_header=(1))\n",
    "print(s.shape)\n",
    "print(s)"
   ]
  },
  {
   "cell_type": "code",
   "execution_count": 193,
   "metadata": {},
   "outputs": [
    {
     "name": "stdout",
     "output_type": "stream",
     "text": [
      "[151  75 141 206 135  97 138  63 110 310 101  69 179 185 118 171 166 144\n",
      "  97 168  68  49  68 245 184 202 137  85 131 283 129  59 341  87  65 102\n",
      " 265 276 252  90 100  55  61  92 259  53 190 142  75 142 155 225  59 104\n",
      " 182 128  52  37 170 170  61 144  52 128  71 163 150  97 160 178  48 270\n",
      " 202 111  85  42 170 200 252 113 143  51  52 210  65 141  55 134  42 111\n",
      "  98 164  48  96  90 162 150 279  92  83 128 102 302 198  95  53 134 144\n",
      " 232  81 104  59 246 297 258 229 275 281 179 200 200 173 180  84 121 161\n",
      "  99 109 115 268 274 158 107  83 103 272  85 280 336 281 118 317 235  60\n",
      " 174 259 178 128  96 126 288  88 292  71 197 186  25  84  96 195  53 217\n",
      " 172 131 214  59  70 220 268 152  47  74 295 101 151 127 237 225  81 151\n",
      " 107  64 138 185 265 101 137 143 141  79 292 178  91 116  86 122  72 129\n",
      " 142  90 158  39 196 222 277  99 196 202 155  77 191  70  73  49  65 263\n",
      " 248 296 214 185  78  93 252 150  77 208  77 108 160  53 220 154 259  90\n",
      " 246 124  67  72 257 262 275 177  71  47 187 125  78  51 258 215 303 243\n",
      "  91 150 310 153 346  63  89  50  39 103 308 116 145  74  45 115 264  87\n",
      " 202 127 182 241  66  94 283  64 102 200 265  94 230 181 156 233  60 219\n",
      "  80  68 332 248  84 200  55  85  89  31 129  83 275  65 198 236 253 124\n",
      "  44 172 114 142 109 180 144 163 147  97 220 190 109 191 122 230 242 248\n",
      " 249 192 131 237  78 135 244 199 270 164  72  96 306  91 214  95 216 263\n",
      " 178 113 200 139 139  88 148  88 243  71  77 109 272  60  54 221  90 311\n",
      " 281 182 321  58 262 206 233 242 123 167  63 197  71 168 140 217 121 235\n",
      " 245  40  52 104 132  88  69 219  72 201 110  51 277  63 118  69 273 258\n",
      "  43 198 242 232 175  93 168 275 293 281  72 140 189 181 209 136 261 113\n",
      " 131 174 257  55  84  42 146 212 233  91 111 152 120  67 310  94 183  66\n",
      " 173  72  49  64  48 178 104 132 220  57]\n"
     ]
    }
   ],
   "source": [
    "t= np.genfromtxt(\"Diabetes.txt\",usecols=-1, dtype='int',skip_header=(1))\n",
    "print(t)"
   ]
  },
  {
   "cell_type": "code",
   "execution_count": 194,
   "metadata": {},
   "outputs": [
    {
     "name": "stdout",
     "output_type": "stream",
     "text": [
      "(331, 10) (331,)\n"
     ]
    }
   ],
   "source": [
    "from sklearn.model_selection import train_test_split\n",
    "s_train,s_test,t_train,t_test = train_test_split(s,t,random_state=2401)\n",
    "print(s_train.shape,t_train.shape)"
   ]
  },
  {
   "cell_type": "code",
   "execution_count": 195,
   "metadata": {},
   "outputs": [
    {
     "data": {
      "text/plain": [
       "0.5161311849602178"
      ]
     },
     "execution_count": 195,
     "metadata": {},
     "output_type": "execute_result"
    }
   ],
   "source": [
    "from sklearn.linear_model import Lasso\n",
    "lasso = Lasso().fit(s_train,t_train)\n",
    "lasso.score(s_train,t_train)"
   ]
  },
  {
   "cell_type": "code",
   "execution_count": 196,
   "metadata": {},
   "outputs": [
    {
     "data": {
      "text/plain": [
       "0.4734216540291182"
      ]
     },
     "execution_count": 196,
     "metadata": {},
     "output_type": "execute_result"
    }
   ],
   "source": [
    "lasso.score(s_test,t_test)"
   ]
  },
  {
   "cell_type": "markdown",
   "metadata": {},
   "source": [
    "# The training and Test error has been increased when we compare after taking the dataset Diabetes.txt."
   ]
  },
  {
   "cell_type": "code",
   "execution_count": 197,
   "metadata": {},
   "outputs": [],
   "source": [
    "from sklearn.preprocessing import StandardScaler\n",
    "scaler = StandardScaler()"
   ]
  },
  {
   "cell_type": "code",
   "execution_count": 198,
   "metadata": {},
   "outputs": [
    {
     "data": {
      "text/plain": [
       "StandardScaler(copy=True, with_mean=True, with_std=True)"
      ]
     },
     "execution_count": 198,
     "metadata": {},
     "output_type": "execute_result"
    }
   ],
   "source": [
    "scaler.fit(x_train)"
   ]
  },
  {
   "cell_type": "code",
   "execution_count": 199,
   "metadata": {},
   "outputs": [
    {
     "name": "stdout",
     "output_type": "stream",
     "text": [
      "(331, 10)\n",
      "[-0.10722563 -0.04464164 -0.08488624 -0.1123996  -0.12678067 -0.11561307\n",
      " -0.10230705 -0.0763945  -0.12609739 -0.13776723]\n",
      "[0.09619652 0.05068012 0.17055523 0.13204422 0.15253776 0.19878799\n",
      " 0.18117906 0.18523444 0.13359898 0.13561183]\n",
      "[-2.34131694 -0.93276819 -1.7771748  -2.36526142 -2.68782686 -2.48682611\n",
      " -2.08333275 -1.56863421 -2.63472834 -2.88668134]\n",
      "[2.10071487 1.07207773 3.4968674  2.78667957 3.25580344 4.33622639\n",
      " 3.65418973 3.8454539  2.77595601 2.78848429]\n",
      "[-2.34131694 -0.93276819 -1.88844151 -2.12338626 -1.89729475 -2.24217482\n",
      " -1.5617398  -1.56863421 -1.81658491 -2.71470662]\n",
      "[2.41800286 1.07207773 2.33969358 2.64155447 3.28508241 3.40519234\n",
      " 2.38746399 2.24948153 2.75040583 2.70249694]\n"
     ]
    }
   ],
   "source": [
    "x_train_scaled = scaler.transform(x_train)\n",
    "print(x_train_scaled.shape)\n",
    "print(x_train.min(axis=0))\n",
    "print(x_train.max(axis=0))\n",
    "print(x_train_scaled.min(axis=0))\n",
    "print(x_train_scaled.max(axis=0))\n",
    "x_test_scaled = scaler.transform(x_test)\n",
    "print(x_test_scaled.min(axis=0))\n",
    "2\n",
    "print(x_test_scaled.max(axis=0))"
   ]
  },
  {
   "cell_type": "code",
   "execution_count": 200,
   "metadata": {},
   "outputs": [
    {
     "data": {
      "text/plain": [
       "0.35190387204549367"
      ]
     },
     "execution_count": 200,
     "metadata": {},
     "output_type": "execute_result"
    }
   ],
   "source": [
    "from sklearn.linear_model import Lasso\n",
    "lasso = Lasso().fit(x_train,y_train)\n",
    "lasso.score(x_train,y_train)"
   ]
  },
  {
   "cell_type": "code",
   "execution_count": 201,
   "metadata": {},
   "outputs": [
    {
     "data": {
      "text/plain": [
       "0.3603973686383196"
      ]
     },
     "execution_count": 201,
     "metadata": {},
     "output_type": "execute_result"
    }
   ],
   "source": [
    "lasso.score(x_test,y_test)"
   ]
  },
  {
   "cell_type": "markdown",
   "metadata": {},
   "source": [
    "# The results are closer to the 3rd item after the StandardScalar function , The snooping was done on the dataset and the result were as same as the 3rd item"
   ]
  },
  {
   "cell_type": "code",
   "execution_count": 202,
   "metadata": {},
   "outputs": [
    {
     "data": {
      "text/plain": [
       "0.47529135453621524"
      ]
     },
     "execution_count": 202,
     "metadata": {},
     "output_type": "execute_result"
    }
   ],
   "source": [
    "lasso001 = Lasso(alpha=0.01,max_iter=100000).fit(x_train,y_train)\n",
    "lasso001.score(x_test,y_test)\n"
   ]
  },
  {
   "cell_type": "code",
   "execution_count": 203,
   "metadata": {},
   "outputs": [
    {
     "data": {
      "text/plain": [
       "10"
      ]
     },
     "execution_count": 203,
     "metadata": {},
     "output_type": "execute_result"
    }
   ],
   "source": [
    "np.sum(lasso001.coef_ != 0)"
   ]
  },
  {
   "cell_type": "code",
   "execution_count": 204,
   "metadata": {},
   "outputs": [
    {
     "data": {
      "text/plain": [
       "0.3603973686383196"
      ]
     },
     "execution_count": 204,
     "metadata": {},
     "output_type": "execute_result"
    }
   ],
   "source": [
    "lasso00001 = Lasso(alpha=1,max_iter=100000).fit(x_train,y_train)\n",
    "lasso00001.score(x_test,y_test)"
   ]
  },
  {
   "cell_type": "code",
   "execution_count": 205,
   "metadata": {},
   "outputs": [
    {
     "data": {
      "text/plain": [
       "3"
      ]
     },
     "execution_count": 205,
     "metadata": {},
     "output_type": "execute_result"
    }
   ],
   "source": [
    "np.sum(lasso00001.coef_ != 0)"
   ]
  },
  {
   "cell_type": "code",
   "execution_count": 206,
   "metadata": {},
   "outputs": [
    {
     "data": {
      "text/plain": [
       "0.3334556818097192"
      ]
     },
     "execution_count": 206,
     "metadata": {},
     "output_type": "execute_result"
    }
   ],
   "source": [
    "lasso02 = Lasso(alpha=1.1,max_iter=100000).fit(x_train,y_train)\n",
    "lasso02.score(x_test,y_test)"
   ]
  },
  {
   "cell_type": "code",
   "execution_count": 207,
   "metadata": {},
   "outputs": [
    {
     "data": {
      "text/plain": [
       "2"
      ]
     },
     "execution_count": 207,
     "metadata": {},
     "output_type": "execute_result"
    }
   ],
   "source": [
    "np.sum(lasso02.coef_ != 0)"
   ]
  },
  {
   "cell_type": "code",
   "execution_count": 208,
   "metadata": {},
   "outputs": [
    {
     "data": {
      "text/plain": [
       "0.2175723047930247"
      ]
     },
     "execution_count": 208,
     "metadata": {},
     "output_type": "execute_result"
    }
   ],
   "source": [
    "lasso03 = Lasso(alpha=1.5,max_iter=100000).fit(x_train,y_train)\n",
    "lasso03.score(x_test,y_test)"
   ]
  },
  {
   "cell_type": "code",
   "execution_count": 209,
   "metadata": {},
   "outputs": [
    {
     "data": {
      "text/plain": [
       "2"
      ]
     },
     "execution_count": 209,
     "metadata": {},
     "output_type": "execute_result"
    }
   ],
   "source": [
    "np.sum(lasso03.coef_ != 0)"
   ]
  },
  {
   "cell_type": "code",
   "execution_count": 210,
   "metadata": {},
   "outputs": [
    {
     "data": {
      "text/plain": [
       "0.03448465293828318"
      ]
     },
     "execution_count": 210,
     "metadata": {},
     "output_type": "execute_result"
    }
   ],
   "source": [
    "lasso04 = Lasso(alpha=2,max_iter=100000).fit(x_train,y_train)\n",
    "lasso04.score(x_test,y_test)"
   ]
  },
  {
   "cell_type": "code",
   "execution_count": 211,
   "metadata": {},
   "outputs": [
    {
     "data": {
      "text/plain": [
       "1"
      ]
     },
     "execution_count": 211,
     "metadata": {},
     "output_type": "execute_result"
    }
   ],
   "source": [
    "np.sum(lasso04.coef_ != 0)"
   ]
  },
  {
   "cell_type": "code",
   "execution_count": 212,
   "metadata": {},
   "outputs": [
    {
     "data": {
      "text/plain": [
       "0.3334556818097192"
      ]
     },
     "execution_count": 212,
     "metadata": {},
     "output_type": "execute_result"
    }
   ],
   "source": [
    "lasso05 = Lasso(alpha=1.1,max_iter=100000).fit(x_train,y_train)\n",
    "lasso05.score(x_test,y_test)"
   ]
  },
  {
   "cell_type": "code",
   "execution_count": 213,
   "metadata": {},
   "outputs": [
    {
     "data": {
      "text/plain": [
       "2"
      ]
     },
     "execution_count": 213,
     "metadata": {},
     "output_type": "execute_result"
    }
   ],
   "source": [
    "np.sum(lasso05.coef_ != 0)"
   ]
  },
  {
   "cell_type": "code",
   "execution_count": 214,
   "metadata": {},
   "outputs": [
    {
     "data": {
      "text/plain": [
       "0.3577221603064088"
      ]
     },
     "execution_count": 214,
     "metadata": {},
     "output_type": "execute_result"
    }
   ],
   "source": [
    "lasso06 = Lasso(alpha=1.01,max_iter=100000).fit(x_train,y_train)\n",
    "lasso06.score(x_test,y_test)"
   ]
  },
  {
   "cell_type": "code",
   "execution_count": 215,
   "metadata": {},
   "outputs": [
    {
     "data": {
      "text/plain": [
       "3"
      ]
     },
     "execution_count": 215,
     "metadata": {},
     "output_type": "execute_result"
    }
   ],
   "source": [
    "np.sum(lasso06.coef_ != 0)"
   ]
  },
  {
   "cell_type": "code",
   "execution_count": 216,
   "metadata": {},
   "outputs": [
    {
     "data": {
      "text/plain": [
       "0.3284066129738539"
      ]
     },
     "execution_count": 216,
     "metadata": {},
     "output_type": "execute_result"
    }
   ],
   "source": [
    "lasso07 = Lasso(alpha=1.12,max_iter=100000).fit(x_train,y_train)\n",
    "lasso07.score(x_test,y_test)"
   ]
  },
  {
   "cell_type": "code",
   "execution_count": 217,
   "metadata": {},
   "outputs": [
    {
     "data": {
      "text/plain": [
       "2"
      ]
     },
     "execution_count": 217,
     "metadata": {},
     "output_type": "execute_result"
    }
   ],
   "source": [
    "np.sum(lasso07.coef_ != 0)"
   ]
  },
  {
   "cell_type": "code",
   "execution_count": 218,
   "metadata": {},
   "outputs": [
    {
     "data": {
      "text/plain": [
       "0.4873530966693696"
      ]
     },
     "execution_count": 218,
     "metadata": {},
     "output_type": "execute_result"
    }
   ],
   "source": [
    "lasso08 = Lasso(alpha=0.12,max_iter=100000).fit(x_train,y_train)\n",
    "lasso08.score(x_test,y_test)"
   ]
  },
  {
   "cell_type": "code",
   "execution_count": 219,
   "metadata": {},
   "outputs": [
    {
     "data": {
      "text/plain": [
       "7"
      ]
     },
     "execution_count": 219,
     "metadata": {},
     "output_type": "execute_result"
    }
   ],
   "source": [
    "np.sum(lasso08.coef_ != 0)"
   ]
  },
  {
   "cell_type": "code",
   "execution_count": 220,
   "metadata": {},
   "outputs": [
    {
     "data": {
      "text/plain": [
       "0.41960217056243776"
      ]
     },
     "execution_count": 220,
     "metadata": {},
     "output_type": "execute_result"
    }
   ],
   "source": [
    "lasso09 = Lasso(alpha=0.75,max_iter=100000).fit(x_train,y_train)\n",
    "lasso09.score(x_test,y_test)"
   ]
  },
  {
   "cell_type": "code",
   "execution_count": 221,
   "metadata": {},
   "outputs": [
    {
     "data": {
      "text/plain": [
       "4"
      ]
     },
     "execution_count": 221,
     "metadata": {},
     "output_type": "execute_result"
    }
   ],
   "source": [
    "np.sum(lasso09.coef_ != 0)"
   ]
  },
  {
   "cell_type": "code",
   "execution_count": 222,
   "metadata": {},
   "outputs": [],
   "source": [
    "from matplotlib import pyplot as plt"
   ]
  },
  {
   "cell_type": "code",
   "execution_count": 223,
   "metadata": {},
   "outputs": [
    {
     "data": {
      "text/plain": [
       "<bound method RegressorMixin.score of Lasso(alpha=0.75, copy_X=True, fit_intercept=True, max_iter=100000,\n",
       "   normalize=False, positive=False, precompute=False, random_state=None,\n",
       "   selection='cyclic', tol=0.0001, warm_start=False)>"
      ]
     },
     "execution_count": 223,
     "metadata": {},
     "output_type": "execute_result"
    }
   ],
   "source": [
    "lasso09.score"
   ]
  },
  {
   "cell_type": "code",
   "execution_count": 224,
   "metadata": {},
   "outputs": [
    {
     "data": {
      "text/plain": [
       "[<matplotlib.lines.Line2D at 0x1b3381b06d8>]"
      ]
     },
     "execution_count": 224,
     "metadata": {},
     "output_type": "execute_result"
    },
    {
     "data": {
      "image/png": "[encoded data removed]",
      "text/plain": [
       "<Figure size 432x288 with 1 Axes>"
      ]
     },
     "metadata": {
      "needs_background": "light"
     },
     "output_type": "display_data"
    }
   ],
   "source": [
    "a= [np.sum(lasso04.coef_!=0) ,np.sum(lasso05.coef_!=0),np.sum(lasso02.coef_!=0) ,np.sum(lasso03.coef_!=0),np.sum(lasso07.coef_!=0),np.sum(lasso00001.coef_!=0),np.sum(lasso06.coef_!=0),np.sum(lasso09.coef_!=0),np.sum(lasso08.coef_!=0),np.sum(lasso001.coef_!=0)]\n",
    "b =[lasso04.score(x_test,y_test),lasso05.score(x_test,y_test),lasso02.score(x_test,y_test),lasso03.score(x_test,y_test),lasso07.score(x_test,y_test),lasso00001.score(x_test,y_test),lasso06.score(x_test,y_test),lasso09.score(x_test,y_test),lasso08.score(x_test,y_test),lasso001.score(x_test,y_test)]\n",
    "plt.plot(a,b)"
   ]
  },
  {
   "cell_type": "markdown",
   "metadata": {},
   "source": [
    "# The point 0.48735(i.e the lasso08) on the graph is the one i prefer the most as this uses the less no of features and gives the better predictions. "
   ]
  },
  {
   "cell_type": "code",
   "execution_count": 226,
   "metadata": {},
   "outputs": [
    {
     "ename": "SyntaxError",
     "evalue": "invalid syntax (<ipython-input-226-6ff737d81aa9>, line 10)",
     "output_type": "error",
     "traceback": [
      "\u001b[1;36m  File \u001b[1;32m\"<ipython-input-226-6ff737d81aa9>\"\u001b[1;36m, line \u001b[1;32m10\u001b[0m\n\u001b[1;33m    if score > best score:\u001b[0m\n\u001b[1;37m                        ^\u001b[0m\n\u001b[1;31mSyntaxError\u001b[0m\u001b[1;31m:\u001b[0m invalid syntax\n"
     ]
    }
   ],
   "source": [
    "from sklearn.model_selection import cross_val_score\n",
    "ap = [1,2,2,2,2,3,3,4,7,10]\n",
    "t_score = []\n",
    "nm_feature = []\n",
    "cv_mean = []\n",
    "for c in range(len(ap)):\n",
    "    lasso = Lasso(alpha[c],max_iter = 10000).fit(XT_train,yt_train)\n",
    "    cv_score = cross_val_score(lasso,XT_train)\n",
    "    cv_mean\n",
    "if score > best score:\n",
    "    best score = score\n",
    "    best C = C\n",
    "    best gamma = gamma\n",
    "# rebuild a model on the full training set\n",
    "svm = SVC(C=best C, gamma=best gamma)\n",
    "svm.fit(X train, y train)\n",
    "test score = svm.score(X test, y test)\n",
    "print(\"Best CV score:\", best score)\n",
    "print(\"Best parameters C and gamma:\", best C, best gamma)\n",
    "print(\"Test set score with best parameters:\", test score)"
   ]
  }
 ],
 "metadata": {
  "kernelspec": {
   "display_name": "Python 3",
   "language": "python",
   "name": "python3"
  },
  "language_info": {
   "codemirror_mode": {
    "name": "ipython",
    "version": 3
   },
   "file_extension": ".py",
   "mimetype": "text/x-python",
   "name": "python",
   "nbconvert_exporter": "python",
   "pygments_lexer": "ipython3",
   "version": "3.7.0"
  }
 },
 "nbformat": 4,
 "nbformat_minor": 2
}
